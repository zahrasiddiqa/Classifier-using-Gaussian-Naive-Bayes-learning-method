{
 "cells": [
  {
   "cell_type": "code",
   "execution_count": 8,
   "metadata": {},
   "outputs": [
    {
     "name": "stdout",
     "output_type": "stream",
     "text": [
      "Populating the interactive namespace from numpy and matplotlib\n"
     ]
    }
   ],
   "source": [
    "import numpy\n",
    "import scipy\n",
    "import matplotlib\n",
    "import sklearn\n",
    "%pylab inline\n",
    "from matplotlib import pyplot"
   ]
  },
  {
   "cell_type": "code",
   "execution_count": 10,
   "metadata": {},
   "outputs": [
    {
     "name": "stdout",
     "output_type": "stream",
     "text": [
      "(1797, 64)\n"
     ]
    }
   ],
   "source": [
    "from sklearn import datasets\n",
    "digits = datasets.load_digits()\n",
    "print(digits.data.shape)"
   ]
  },
  {
   "cell_type": "code",
   "execution_count": 11,
   "metadata": {},
   "outputs": [
    {
     "name": "stdout",
     "output_type": "stream",
     "text": [
      "dict_keys(['data', 'target', 'target_names', 'images', 'DESCR'])\n"
     ]
    }
   ],
   "source": [
    "print(digits.keys())\n"
   ]
  },
  {
   "cell_type": "code",
   "execution_count": 12,
   "metadata": {},
   "outputs": [
    {
     "name": "stdout",
     "output_type": "stream",
     "text": [
      "(1797, 64)\n",
      "[ 0.  0.  5. 13.  9.  1.  0.  0.  0.  0. 13. 15. 10. 15.  5.  0.  0.  3.\n",
      " 15.  2.  0. 11.  8.  0.  0.  4. 12.  0.  0.  8.  8.  0.  0.  5.  8.  0.\n",
      "  0.  9.  8.  0.  0.  4. 11.  0.  1. 12.  7.  0.  0.  2. 14.  5. 10. 12.\n",
      "  0.  0.  0.  0.  6. 13. 10.  0.  0.  0.]\n"
     ]
    }
   ],
   "source": [
    "\n",
    "print(digits.data.shape)\n",
    "print(digits.data[0])\n",
    "\n"
   ]
  },
  {
   "cell_type": "code",
   "execution_count": 13,
   "metadata": {},
   "outputs": [
    {
     "name": "stdout",
     "output_type": "stream",
     "text": [
      "0\n",
      "[0 1 2 3 4 5 6 7 8 9]\n"
     ]
    }
   ],
   "source": [
    "print(digits.target[0])\n",
    "print(digits.target_names)\n"
   ]
  },
  {
   "cell_type": "code",
   "execution_count": 17,
   "metadata": {},
   "outputs": [
    {
     "name": "stdout",
     "output_type": "stream",
     "text": [
      "(1797, 8, 8)\n"
     ]
    },
    {
     "data": {
      "image/png": "[encoded data removed]",
      "text/plain": [
       "<matplotlib.figure.Figure at 0xb373446c88>"
      ]
     },
     "metadata": {},
     "output_type": "display_data"
    }
   ],
   "source": [
    "# same data as array of 8x8 arrays\n",
    "print(digits.images.shape)\n",
    "\n",
    "# visualisation of 5 x 5 items\n",
    "myfigure = pyplot.figure(figsize=(5,5))\n",
    "# set size in inches\n",
    "myfigure.subplots_adjust(\n",
    "left=0,\n",
    "right=1,\n",
    "bottom=0,\n",
    "top=1,\n",
    "hspace=0.05,\n",
    "wspace=0.05\n",
    ")\n",
    "\n",
    "# add the first 16 images from the training set\n",
    "for i in range(25):\n",
    "\n",
    "# set location of the subplot\n",
    "    axes = myfigure.add_subplot(\n",
    "    5, 5, i+1,\n",
    "    xticks=[],\n",
    "    yticks=[]\n",
    ")\n",
    "\n",
    "    # add image\n",
    "    axes.imshow(digits.images[i], cmap=pyplot.cm.Greys)\n",
    "\n",
    "# label image with target value\n",
    "axes.text(0, 6, '%d' %digits.target[i])\n",
    "pyplot.show()"
   ]
  },
  {
   "cell_type": "code",
   "execution_count": 15,
   "metadata": {},
   "outputs": [
    {
     "name": "stdout",
     "output_type": "stream",
     "text": [
      "255 of 1797 points are mislabelled.\n"
     ]
    }
   ],
   "source": [
    "\n",
    "from sklearn.naive_bayes import GaussianNB\n",
    "mygaussiannb = GaussianNB()\n",
    "# fit to data\n",
    "mygaussiannb.fit(digits.data, digits.target)\n",
    "# make predictions\n",
    "# (using the same data in this example;\n",
    "# performance is not representative for new data)\n",
    "y_pred = mygaussiannb.predict(digits.data)\n",
    "# count the number of mislabelled digits\n",
    "print('%d of %d points are mislabelled.' %(\n",
    "(digits.target != y_pred).sum(),\n",
    "digits.data.shape[0]\n",
    "))"
   ]
  }
 ],
 "metadata": {
  "kernelspec": {
   "display_name": "Python 3",
   "language": "python",
   "name": "python3"
  },
  "language_info": {
   "codemirror_mode": {
    "name": "ipython",
    "version": 3
   },
   "file_extension": ".py",
   "mimetype": "text/x-python",
   "name": "python",
   "nbconvert_exporter": "python",
   "pygments_lexer": "ipython3",
   "version": "3.6.2"
  }
 },
 "nbformat": 4,
 "nbformat_minor": 2
}
